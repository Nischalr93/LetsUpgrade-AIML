{
 "cells": [
  {
   "cell_type": "markdown",
   "metadata": {},
   "source": [
    "# LetsUpgrade Assigment"
   ]
  },
  {
   "cell_type": "markdown",
   "metadata": {},
   "source": [
    "## Day 3 assigment"
   ]
  },
  {
   "cell_type": "code",
   "execution_count": 1,
   "metadata": {},
   "outputs": [],
   "source": [
    "import numpy as np\n",
    "import pandas as pd"
   ]
  },
  {
   "cell_type": "code",
   "execution_count": 1,
   "metadata": {},
   "outputs": [],
   "source": [
    "# Write a program to subtract two complex numbers in python"
   ]
  },
  {
   "cell_type": "code",
   "execution_count": 7,
   "metadata": {},
   "outputs": [
    {
     "name": "stdout",
     "output_type": "stream",
     "text": [
      "First complex number is: (4+3j)\n",
      "Second complex number is : (3-7j)\n",
      "Subtraction of two complex numbers: (1+10j)\n"
     ]
    }
   ],
   "source": [
    "a = 4+3j\n",
    "b = 3-7j\n",
    "print(\"First complex number is:\", a)\n",
    "print(\"Second complex number is :\", b)\n",
    "print(\"Subtraction of two complex numbers:\", (a) - (b))"
   ]
  },
  {
   "cell_type": "code",
   "execution_count": null,
   "metadata": {},
   "outputs": [],
   "source": []
  },
  {
   "cell_type": "code",
   "execution_count": 8,
   "metadata": {},
   "outputs": [],
   "source": [
    "# Write a program to find the fourth root of a number"
   ]
  },
  {
   "cell_type": "code",
   "execution_count": 14,
   "metadata": {},
   "outputs": [
    {
     "name": "stdout",
     "output_type": "stream",
     "text": [
      "The fourth root of 20736 is: 12.0\n"
     ]
    }
   ],
   "source": [
    "import math\n",
    "number = 20736\n",
    "c = math.sqrt(math.sqrt(number))\n",
    "print(\"The fourth root of 20736 is:\",c)"
   ]
  },
  {
   "cell_type": "code",
   "execution_count": null,
   "metadata": {},
   "outputs": [],
   "source": []
  },
  {
   "cell_type": "code",
   "execution_count": 13,
   "metadata": {},
   "outputs": [],
   "source": [
    "# Write a program to swap two numbers in Pyhton with the help of temporary variable."
   ]
  },
  {
   "cell_type": "code",
   "execution_count": 22,
   "metadata": {},
   "outputs": [
    {
     "name": "stdout",
     "output_type": "stream",
     "text": [
      "The value of x and y before swapping: (10, 25)\n",
      "The value of x and y after swapping: (25, 10)\n"
     ]
    }
   ],
   "source": [
    "x = 10\n",
    "y = 25\n",
    "print(\"The value of x and y before swapping:\",(x,y))\n",
    "\n",
    "temp = x\n",
    "x = y\n",
    "y = temp\n",
    "      \n",
    "print(\"The value of x and y after swapping:\", (x, y))"
   ]
  },
  {
   "cell_type": "code",
   "execution_count": null,
   "metadata": {},
   "outputs": [],
   "source": []
  },
  {
   "cell_type": "code",
   "execution_count": null,
   "metadata": {},
   "outputs": [],
   "source": [
    "# # Write a program to swap two numbers in Pyhton without using temporary variable."
   ]
  },
  {
   "cell_type": "code",
   "execution_count": 24,
   "metadata": {},
   "outputs": [
    {
     "name": "stdout",
     "output_type": "stream",
     "text": [
      "The value of x and y before swapping: (20, 80)\n",
      "The value of x and y after swapping: (80, 20)\n"
     ]
    }
   ],
   "source": [
    "x = 20\n",
    "y = 80\n",
    "print(\"The value of x and y before swapping:\", (x,y))\n",
    "\n",
    "x,y = y, x\n",
    "print(\"The value of x and y after swapping:\", (x, y))"
   ]
  },
  {
   "cell_type": "code",
   "execution_count": null,
   "metadata": {},
   "outputs": [],
   "source": []
  },
  {
   "cell_type": "code",
   "execution_count": 25,
   "metadata": {},
   "outputs": [],
   "source": [
    "# Write a program to convert fahrenheit to kelvin and celsius both"
   ]
  },
  {
   "cell_type": "code",
   "execution_count": 29,
   "metadata": {},
   "outputs": [
    {
     "name": "stdout",
     "output_type": "stream",
     "text": [
      "The value of kelvin from fahrenheit is: 310.92777777777775\n"
     ]
    }
   ],
   "source": [
    "fahrenheit = 100\n",
    "kelvin = ((fahrenheit - 32) * 5/9) + 273.15\n",
    "print(\"The value of kelvin from fahrenheit is:\", kelvin)"
   ]
  },
  {
   "cell_type": "code",
   "execution_count": 26,
   "metadata": {},
   "outputs": [
    {
     "name": "stdout",
     "output_type": "stream",
     "text": [
      "The value of celsius from fahrenheit is: 37.22222222222222\n"
     ]
    }
   ],
   "source": [
    "fahrenheit = 99\n",
    "celsius = (fahrenheit - 32) * 5/9\n",
    "print(\"The value of celsius from fahrenheit is:\", celsius)"
   ]
  },
  {
   "cell_type": "code",
   "execution_count": null,
   "metadata": {},
   "outputs": [],
   "source": []
  },
  {
   "cell_type": "code",
   "execution_count": 30,
   "metadata": {},
   "outputs": [],
   "source": [
    "# Write a program to demonstrate all the available data types in Python. "
   ]
  },
  {
   "cell_type": "code",
   "execution_count": 31,
   "metadata": {},
   "outputs": [],
   "source": [
    "a = 9852\n",
    "b = 639.25\n",
    "c = \"Nischal\"\n",
    "d = True\n",
    "e = 4+3j"
   ]
  },
  {
   "cell_type": "code",
   "execution_count": 34,
   "metadata": {},
   "outputs": [
    {
     "name": "stdout",
     "output_type": "stream",
     "text": [
      "The datatype of a: <class 'int'>\n"
     ]
    }
   ],
   "source": [
    "print(\"The datatype of a:\", type(a))"
   ]
  },
  {
   "cell_type": "code",
   "execution_count": 35,
   "metadata": {},
   "outputs": [
    {
     "name": "stdout",
     "output_type": "stream",
     "text": [
      "The datatype of b: <class 'float'>\n"
     ]
    }
   ],
   "source": [
    "print(\"The datatype of b:\", type(b))"
   ]
  },
  {
   "cell_type": "code",
   "execution_count": 36,
   "metadata": {},
   "outputs": [
    {
     "name": "stdout",
     "output_type": "stream",
     "text": [
      "The datatype of c: <class 'str'>\n"
     ]
    }
   ],
   "source": [
    "print(\"The datatype of c:\", type(c))"
   ]
  },
  {
   "cell_type": "code",
   "execution_count": 37,
   "metadata": {},
   "outputs": [
    {
     "name": "stdout",
     "output_type": "stream",
     "text": [
      "The datatype of d: <class 'bool'>\n"
     ]
    }
   ],
   "source": [
    "print(\"The datatype of d:\", type(d))"
   ]
  },
  {
   "cell_type": "code",
   "execution_count": 38,
   "metadata": {},
   "outputs": [
    {
     "name": "stdout",
     "output_type": "stream",
     "text": [
      "The datatype of e: <class 'complex'>\n"
     ]
    }
   ],
   "source": [
    "print(\"The datatype of e:\", type(e))"
   ]
  },
  {
   "cell_type": "markdown",
   "metadata": {},
   "source": [
    "## advanced data types/ data structures"
   ]
  },
  {
   "cell_type": "code",
   "execution_count": 40,
   "metadata": {},
   "outputs": [
    {
     "name": "stdout",
     "output_type": "stream",
     "text": [
      "[9852, 639.25, 'Nischal', True, (4+3j)]\n",
      "The data type of lst: <class 'list'>\n"
     ]
    }
   ],
   "source": [
    "lst = [9852, 639.25, \"Nischal\", True, 4+3j]\n",
    "print(lst)\n",
    "print(\"The data type of lst:\", type(lst))"
   ]
  },
  {
   "cell_type": "code",
   "execution_count": 41,
   "metadata": {},
   "outputs": [
    {
     "name": "stdout",
     "output_type": "stream",
     "text": [
      "(9852, 639.25, 'Nischal', True, (4+3j))\n",
      "The data type of tple: <class 'tuple'>\n"
     ]
    }
   ],
   "source": [
    "tple = (9852, 639.25, \"Nischal\", True, 4+3j)\n",
    "print(tple)\n",
    "print(\"The data type of tple:\", type(tple))"
   ]
  },
  {
   "cell_type": "code",
   "execution_count": 43,
   "metadata": {},
   "outputs": [
    {
     "name": "stdout",
     "output_type": "stream",
     "text": [
      "{True, (4+3j), 'Nischal', 9852, 639.25}\n",
      "The data type of st: <class 'set'>\n"
     ]
    }
   ],
   "source": [
    "st = {9852, 639.25, \"Nischal\", True, 4+3j}\n",
    "print(st)\n",
    "print(\"The data type of st:\", type(st))"
   ]
  },
  {
   "cell_type": "code",
   "execution_count": 45,
   "metadata": {},
   "outputs": [
    {
     "name": "stdout",
     "output_type": "stream",
     "text": [
      "{'a': 9852, 'b': 639.25, 'c': 'Nischal', 'd': True, 'e': (4+3j)}\n",
      "The data type of dct: <class 'dict'>\n"
     ]
    }
   ],
   "source": [
    "dct = {'a':9852, 'b':639.25, 'c':'Nischal', 'd':True, 'e':4+3j}\n",
    "print(dct)\n",
    "print(\"The data type of dct:\", type(dct))"
   ]
  },
  {
   "cell_type": "code",
   "execution_count": null,
   "metadata": {},
   "outputs": [],
   "source": []
  }
 ],
 "metadata": {
  "kernelspec": {
   "display_name": "Python 3",
   "language": "python",
   "name": "python3"
  },
  "language_info": {
   "codemirror_mode": {
    "name": "ipython",
    "version": 3
   },
   "file_extension": ".py",
   "mimetype": "text/x-python",
   "name": "python",
   "nbconvert_exporter": "python",
   "pygments_lexer": "ipython3",
   "version": "3.7.6"
  },
  "toc": {
   "base_numbering": 1,
   "nav_menu": {},
   "number_sections": true,
   "sideBar": true,
   "skip_h1_title": false,
   "title_cell": "Table of Contents",
   "title_sidebar": "Contents",
   "toc_cell": false,
   "toc_position": {},
   "toc_section_display": true,
   "toc_window_display": false
  }
 },
 "nbformat": 4,
 "nbformat_minor": 4
}
