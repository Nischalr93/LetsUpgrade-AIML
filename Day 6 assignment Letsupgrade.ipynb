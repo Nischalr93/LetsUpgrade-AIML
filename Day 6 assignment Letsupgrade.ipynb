{
 "cells": [
  {
   "cell_type": "markdown",
   "metadata": {},
   "source": [
    "# Day 6 assignment LetsUpgrade"
   ]
  },
  {
   "cell_type": "code",
   "execution_count": 1,
   "metadata": {},
   "outputs": [],
   "source": [
    "import pandas as pd\n",
    "import numpy as np"
   ]
  },
  {
   "cell_type": "code",
   "execution_count": null,
   "metadata": {},
   "outputs": [],
   "source": [
    "# Assuming that we have some email addresses in the \"username@companyname.com\" format,\n",
    "# please write program to print the company name of a given email address. \n",
    "# Both user names and company names are composed of letters only.\n"
   ]
  },
  {
   "cell_type": "code",
   "execution_count": 8,
   "metadata": {},
   "outputs": [
    {
     "name": "stdout",
     "output_type": "stream",
     "text": [
      "Enter the string:abc@gmail.com\n",
      "gmail\n"
     ]
    }
   ],
   "source": [
    "name = input(\"Enter the string:\")\n",
    "name = name.split('@')[1]\n",
    "name = name.split('.')[0]\n",
    "\n",
    "print(name)"
   ]
  },
  {
   "cell_type": "code",
   "execution_count": 10,
   "metadata": {},
   "outputs": [
    {
     "name": "stdout",
     "output_type": "stream",
     "text": [
      "The first line of input contains an email addres:nischal@outlook.com\n",
      "outlook\n"
     ]
    }
   ],
   "source": [
    "emai = input(\"The first line of input contains an email addres:\")\n",
    "emai = emai.split('@')[1]\n",
    "emai = emai.split('.')[0]\n",
    "\n",
    "print(emai)"
   ]
  },
  {
   "cell_type": "code",
   "execution_count": 13,
   "metadata": {},
   "outputs": [
    {
     "name": "stdout",
     "output_type": "stream",
     "text": [
      "The first line of input contains an email addres:abc@hotmail.com\n",
      "hotmail\n"
     ]
    }
   ],
   "source": [
    "name = input(\"The first line of input contains an email addres:\")\n",
    "name = name.split('@')[1].split('.')[0]\n",
    "\n",
    "print(name)"
   ]
  },
  {
   "cell_type": "code",
   "execution_count": null,
   "metadata": {},
   "outputs": [],
   "source": []
  },
  {
   "cell_type": "code",
   "execution_count": null,
   "metadata": {},
   "outputs": [],
   "source": []
  },
  {
   "cell_type": "code",
   "execution_count": null,
   "metadata": {},
   "outputs": [],
   "source": [
    "# Write a program that accepts a comma-separated sequence of words as input and prints the words in a comma\n",
    "# separated sequence after sorting them alphabetically.\n",
    "\n",
    "# Input Format:\n",
    "# The first line of input contains words separated by the comma.\n",
    "# Output Format:\n",
    "# Print the sorted words separated by the comma.\n",
    "# Example:\n",
    "# Input:\n",
    "# without,hello,bag,world\n",
    "# Output:\n",
    "# bag,hello,without,world"
   ]
  },
  {
   "cell_type": "code",
   "execution_count": 18,
   "metadata": {},
   "outputs": [
    {
     "name": "stdout",
     "output_type": "stream",
     "text": [
      "Enter the sentence:without,hello,bag,world\n",
      "bag,hello,without,world\n"
     ]
    }
   ],
   "source": [
    "seq_wrds = input(\"Enter the sentence:\")\n",
    "wrds = [wrds for wrds in seq_wrds.split(',')]\n",
    "\n",
    "print(','.join(sorted(list(set(wrds)))))"
   ]
  },
  {
   "cell_type": "markdown",
   "metadata": {},
   "source": [
    "### or"
   ]
  },
  {
   "cell_type": "code",
   "execution_count": 17,
   "metadata": {},
   "outputs": [
    {
     "name": "stdout",
     "output_type": "stream",
     "text": [
      "Enter the sentence:without,hello,bag,world\n",
      "bag,hello,without,world\n"
     ]
    }
   ],
   "source": [
    "items = [x for x in input(\"Enter the sentence:\").split(',')]\n",
    "\n",
    "items.sort()\n",
    "\n",
    "print((',').join(items))"
   ]
  },
  {
   "cell_type": "code",
   "execution_count": null,
   "metadata": {},
   "outputs": [],
   "source": []
  },
  {
   "cell_type": "markdown",
   "metadata": {},
   "source": [
    "# Create your own Jupyter Notebook for Sets.\n",
    "# Reference link: https://www.w3schools.com/python/python_sets.asp"
   ]
  },
  {
   "cell_type": "code",
   "execution_count": 73,
   "metadata": {},
   "outputs": [
    {
     "name": "stdout",
     "output_type": "stream",
     "text": [
      "{}\n"
     ]
    }
   ],
   "source": [
    "# Set : A Set is an unordered collection data type that is iterable (you can usse for loop) , mutable (changeable), unindexed \n",
    "# and has no duplicate elements. sets are written with curly brackets.\n",
    "Set = {}\n",
    "print(Set)"
   ]
  },
  {
   "cell_type": "code",
   "execution_count": null,
   "metadata": {},
   "outputs": [],
   "source": []
  },
  {
   "cell_type": "code",
   "execution_count": 74,
   "metadata": {},
   "outputs": [
    {
     "name": "stdout",
     "output_type": "stream",
     "text": [
      "{'Jay Z', 'Wayne', 'Eminem', 'Drake'}\n"
     ]
    }
   ],
   "source": [
    "myset = {'Wayne','Eminem','Drake','Jay Z'}\n",
    "print(myset)"
   ]
  },
  {
   "cell_type": "code",
   "execution_count": null,
   "metadata": {},
   "outputs": [],
   "source": []
  },
  {
   "cell_type": "code",
   "execution_count": 75,
   "metadata": {},
   "outputs": [
    {
     "name": "stdout",
     "output_type": "stream",
     "text": [
      "{'Eminem', 'Nicki Minaj', 'Wayne', 'Drake', 'Jay Z'}\n"
     ]
    }
   ],
   "source": [
    "# add : To add one item to a set use the add() method.\n",
    "myset.add('Nicki Minaj')\n",
    "print(myset)"
   ]
  },
  {
   "cell_type": "code",
   "execution_count": null,
   "metadata": {},
   "outputs": [],
   "source": []
  },
  {
   "cell_type": "code",
   "execution_count": 76,
   "metadata": {},
   "outputs": [],
   "source": [
    "#update: To add more than one item to a set use the update() method.\n",
    "myset.update(['Snoop Dog','50 Cent','Big Sean'])"
   ]
  },
  {
   "cell_type": "code",
   "execution_count": 77,
   "metadata": {},
   "outputs": [
    {
     "name": "stdout",
     "output_type": "stream",
     "text": [
      "{'Snoop Dog', '50 Cent', 'Eminem', 'Nicki Minaj', 'Big Sean', 'Wayne', 'Drake', 'Jay Z'}\n"
     ]
    }
   ],
   "source": [
    "print(myset)"
   ]
  },
  {
   "cell_type": "code",
   "execution_count": null,
   "metadata": {},
   "outputs": [],
   "source": []
  },
  {
   "cell_type": "code",
   "execution_count": 78,
   "metadata": {},
   "outputs": [
    {
     "name": "stdout",
     "output_type": "stream",
     "text": [
      "{'Snoop Dog', '50 Cent', 'Eminem', 'Nicki Minaj', 'Big Sean', 'Wayne', 'Drake', 'Jay Z'}\n"
     ]
    }
   ],
   "source": [
    "# Copy : Returns a copy of the set\n",
    "set1 = myset.copy()\n",
    "print(set1)"
   ]
  },
  {
   "cell_type": "code",
   "execution_count": null,
   "metadata": {},
   "outputs": [],
   "source": []
  },
  {
   "cell_type": "code",
   "execution_count": 79,
   "metadata": {},
   "outputs": [
    {
     "name": "stdout",
     "output_type": "stream",
     "text": [
      "{1, 2, 3, 'banana', 'cherry', 'apple'}\n"
     ]
    }
   ],
   "source": [
    "#difference: Returns a set containing the difference between two or more sets\n",
    "# the returned set contains items that exist only in the first set, and not in both sets\n",
    "s1 = {1,2,3,\"apple\", \"banana\", \"cherry\"}\n",
    "print(s1)"
   ]
  },
  {
   "cell_type": "code",
   "execution_count": null,
   "metadata": {},
   "outputs": [],
   "source": []
  },
  {
   "cell_type": "code",
   "execution_count": 80,
   "metadata": {},
   "outputs": [
    {
     "name": "stdout",
     "output_type": "stream",
     "text": [
      "{1, 3, 'google', 'microsoft', 'apple'}\n"
     ]
    }
   ],
   "source": [
    "s2 = {1,3,\"google\", \"microsoft\", \"apple\"}\n",
    "print(s2)"
   ]
  },
  {
   "cell_type": "code",
   "execution_count": 81,
   "metadata": {},
   "outputs": [
    {
     "data": {
      "text/plain": [
       "{2, 'banana', 'cherry'}"
      ]
     },
     "execution_count": 81,
     "metadata": {},
     "output_type": "execute_result"
    }
   ],
   "source": [
    "s1.difference(s2)"
   ]
  },
  {
   "cell_type": "code",
   "execution_count": 82,
   "metadata": {},
   "outputs": [
    {
     "name": "stdout",
     "output_type": "stream",
     "text": [
      "{'google', 'microsoft'}\n"
     ]
    }
   ],
   "source": [
    "#difference_update:  method removes the items that exist in both sets\n",
    "s2.difference_update(s1)\n",
    "print(s2)"
   ]
  },
  {
   "cell_type": "code",
   "execution_count": 83,
   "metadata": {},
   "outputs": [],
   "source": [
    "#discard: method removes the specified item from the set\n",
    "s1.discard(2)"
   ]
  },
  {
   "cell_type": "code",
   "execution_count": 84,
   "metadata": {},
   "outputs": [
    {
     "name": "stdout",
     "output_type": "stream",
     "text": [
      "{1, 3, 'banana', 'cherry', 'apple'}\n"
     ]
    }
   ],
   "source": [
    "print(s1)"
   ]
  },
  {
   "cell_type": "code",
   "execution_count": 85,
   "metadata": {},
   "outputs": [],
   "source": [
    "# intersection: method returns a set that contains the similarity between two or more sets.\n",
    "x = {20,60,'Ford','Jaguar',40,'Wayne'}"
   ]
  },
  {
   "cell_type": "code",
   "execution_count": 86,
   "metadata": {},
   "outputs": [],
   "source": [
    "y = {30,'Wayne','Vogan','Benz',20}"
   ]
  },
  {
   "cell_type": "code",
   "execution_count": 87,
   "metadata": {},
   "outputs": [
    {
     "data": {
      "text/plain": [
       "{20, 'Wayne'}"
      ]
     },
     "execution_count": 87,
     "metadata": {},
     "output_type": "execute_result"
    }
   ],
   "source": [
    "x.intersection(y)"
   ]
  },
  {
   "cell_type": "code",
   "execution_count": 88,
   "metadata": {},
   "outputs": [
    {
     "name": "stdout",
     "output_type": "stream",
     "text": [
      "{'Benz', 'Vogan', 20, 'Wayne', 30}\n"
     ]
    }
   ],
   "source": [
    "# intersection_update: method removes the items that is not present in both sets \n",
    "# (or in all sets if the comparison is done between more than two sets).\n",
    "x.intersection_update(y)\n",
    "print(y)"
   ]
  },
  {
   "cell_type": "code",
   "execution_count": 89,
   "metadata": {},
   "outputs": [
    {
     "name": "stdout",
     "output_type": "stream",
     "text": [
      "{20, 'Wayne'}\n"
     ]
    }
   ],
   "source": [
    "y.intersection_update(x)\n",
    "print(x)"
   ]
  },
  {
   "cell_type": "code",
   "execution_count": 90,
   "metadata": {},
   "outputs": [
    {
     "data": {
      "text/plain": [
       "False"
      ]
     },
     "execution_count": 90,
     "metadata": {},
     "output_type": "execute_result"
    }
   ],
   "source": [
    "#isdisjoint : Return True if no items in set x is present in set y: \n",
    "#method returns True if none of the items are present in both sets, otherwise it returns False.\n",
    "x.isdisjoint(y)"
   ]
  },
  {
   "cell_type": "code",
   "execution_count": 91,
   "metadata": {},
   "outputs": [],
   "source": [
    "a = {\"apple\", \"banana\", \"cherry\"}"
   ]
  },
  {
   "cell_type": "code",
   "execution_count": 92,
   "metadata": {},
   "outputs": [],
   "source": [
    "b ={\"google\", \"microsoft\", \"facebook\"}"
   ]
  },
  {
   "cell_type": "code",
   "execution_count": 93,
   "metadata": {},
   "outputs": [
    {
     "data": {
      "text/plain": [
       "True"
      ]
     },
     "execution_count": 93,
     "metadata": {},
     "output_type": "execute_result"
    }
   ],
   "source": [
    "a.isdisjoint(b)"
   ]
  },
  {
   "cell_type": "code",
   "execution_count": 94,
   "metadata": {},
   "outputs": [],
   "source": [
    "#issubset : method returns True if all items in the set exists in the specified set, otherwise it retuns False.\n",
    "m = {\"a\", \"b\", \"c\"}"
   ]
  },
  {
   "cell_type": "code",
   "execution_count": 95,
   "metadata": {},
   "outputs": [],
   "source": [
    "n = {\"f\", \"e\", \"d\", \"c\", \"b\", \"a\"}"
   ]
  },
  {
   "cell_type": "code",
   "execution_count": 96,
   "metadata": {},
   "outputs": [
    {
     "data": {
      "text/plain": [
       "True"
      ]
     },
     "execution_count": 96,
     "metadata": {},
     "output_type": "execute_result"
    }
   ],
   "source": [
    "m.issubset(n)"
   ]
  },
  {
   "cell_type": "code",
   "execution_count": null,
   "metadata": {},
   "outputs": [],
   "source": []
  },
  {
   "cell_type": "code",
   "execution_count": 97,
   "metadata": {},
   "outputs": [
    {
     "data": {
      "text/plain": [
       "False"
      ]
     },
     "execution_count": 97,
     "metadata": {},
     "output_type": "execute_result"
    }
   ],
   "source": [
    "r = {\"a\", \"b\", \"c\"}\n",
    "s = {\"f\", \"e\", \"d\", \"c\", \"b\"}\n",
    "r.issubset(s)"
   ]
  },
  {
   "cell_type": "code",
   "execution_count": 98,
   "metadata": {},
   "outputs": [
    {
     "data": {
      "text/plain": [
       "'f'"
      ]
     },
     "execution_count": 98,
     "metadata": {},
     "output_type": "execute_result"
    }
   ],
   "source": [
    "#pop: method removes a random item from the set.\n",
    "s.pop()"
   ]
  },
  {
   "cell_type": "code",
   "execution_count": 100,
   "metadata": {},
   "outputs": [],
   "source": [
    "#remove: method removes the specified element from the set.\n",
    "# remove() method will raise an error if the specified item does not exist\n",
    "s.remove(\"c\")"
   ]
  },
  {
   "cell_type": "code",
   "execution_count": 101,
   "metadata": {},
   "outputs": [
    {
     "name": "stdout",
     "output_type": "stream",
     "text": [
      "{'d', 'e', 'b'}\n"
     ]
    }
   ],
   "source": [
    "print(s)"
   ]
  },
  {
   "cell_type": "code",
   "execution_count": null,
   "metadata": {},
   "outputs": [],
   "source": []
  },
  {
   "cell_type": "code",
   "execution_count": 102,
   "metadata": {},
   "outputs": [],
   "source": [
    "# symmetric_difference : method returns a set that contains all items from both set, \n",
    "#but not the items that are present in both sets.\n",
    "r = {\"a\", \"b\", \"c\"}"
   ]
  },
  {
   "cell_type": "code",
   "execution_count": 103,
   "metadata": {},
   "outputs": [],
   "source": [
    "s = {\"f\", \"e\", \"d\", \"c\", \"b\"}"
   ]
  },
  {
   "cell_type": "code",
   "execution_count": 104,
   "metadata": {},
   "outputs": [
    {
     "data": {
      "text/plain": [
       "{'a', 'd', 'e', 'f'}"
      ]
     },
     "execution_count": 104,
     "metadata": {},
     "output_type": "execute_result"
    }
   ],
   "source": [
    "r.symmetric_difference(s)"
   ]
  },
  {
   "cell_type": "code",
   "execution_count": 105,
   "metadata": {},
   "outputs": [
    {
     "name": "stdout",
     "output_type": "stream",
     "text": [
      "{'f', 'd', 'e', 'a'}\n"
     ]
    }
   ],
   "source": [
    "# symmetric_difference_update method updates the original set by removing items that are present in both sets \n",
    "#and inserting the other items.\n",
    "r.symmetric_difference_update(s)\n",
    "print(r)"
   ]
  },
  {
   "cell_type": "code",
   "execution_count": 106,
   "metadata": {},
   "outputs": [],
   "source": [
    "#union : Return a set that contains all items from both sets, duplicates are excluded:\n",
    "m = {\"a\", \"b\", \"c\"}"
   ]
  },
  {
   "cell_type": "code",
   "execution_count": 107,
   "metadata": {},
   "outputs": [],
   "source": [
    "n = {\"f\", \"e\", \"d\", \"c\", \"b\", \"a\"}"
   ]
  },
  {
   "cell_type": "code",
   "execution_count": 108,
   "metadata": {},
   "outputs": [
    {
     "data": {
      "text/plain": [
       "{'a', 'b', 'c', 'd', 'e', 'f'}"
      ]
     },
     "execution_count": 108,
     "metadata": {},
     "output_type": "execute_result"
    }
   ],
   "source": [
    "m.union(n)"
   ]
  },
  {
   "cell_type": "code",
   "execution_count": 109,
   "metadata": {},
   "outputs": [],
   "source": [
    "#update : method updates the current set, by adding items from another set.\n",
    "#If an item is present in both sets, only one appearance of this item will be present in the updated set.\n",
    "x1 = {'Wayne','Eminem','Drake','Jay Z'}"
   ]
  },
  {
   "cell_type": "code",
   "execution_count": 110,
   "metadata": {},
   "outputs": [],
   "source": [
    "x2 = {'Nicki Minaj', 'Jay Z', '50 Cent', 'Wayne'}"
   ]
  },
  {
   "cell_type": "code",
   "execution_count": 111,
   "metadata": {},
   "outputs": [],
   "source": [
    "x1.update(x2)"
   ]
  },
  {
   "cell_type": "code",
   "execution_count": 112,
   "metadata": {},
   "outputs": [
    {
     "name": "stdout",
     "output_type": "stream",
     "text": [
      "{'50 Cent', 'Eminem', 'Nicki Minaj', 'Wayne', 'Drake', 'Jay Z'}\n"
     ]
    }
   ],
   "source": [
    "print(x1)"
   ]
  },
  {
   "cell_type": "code",
   "execution_count": null,
   "metadata": {},
   "outputs": [],
   "source": []
  },
  {
   "cell_type": "code",
   "execution_count": null,
   "metadata": {},
   "outputs": [],
   "source": []
  },
  {
   "cell_type": "code",
   "execution_count": 19,
   "metadata": {},
   "outputs": [],
   "source": [
    "# Given a list of n-1 numbers ranging from 1 to n, your task is to find the missing number. There are no duplicates.\n",
    "\n",
    "# Input Format:\n",
    "# The first line contains n-1 numbers with each number separated by a space.\n",
    "# Output Format:\n",
    "# Print the missing number\n",
    "# Example:\n",
    "# Input:1 2 4 6 3 7 8\n",
    "# Output:5\n",
    "# Explanation:\n",
    "# In the above list of numbers 5 is missing and hence 5 is the input"
   ]
  },
  {
   "cell_type": "code",
   "execution_count": 23,
   "metadata": {},
   "outputs": [
    {
     "name": "stdout",
     "output_type": "stream",
     "text": [
      "[1, 2, 3, 4, 5, 6, 7, 8, 9]\n"
     ]
    }
   ],
   "source": [
    "nmbers = [x for x in range(1,10)]\n",
    "print(nmbers)"
   ]
  },
  {
   "cell_type": "code",
   "execution_count": null,
   "metadata": {},
   "outputs": [],
   "source": []
  },
  {
   "cell_type": "code",
   "execution_count": 41,
   "metadata": {},
   "outputs": [],
   "source": [
    "def find_missing(numb):\n",
    "    return [x for x in range(numb[0], numb[-1]+1)\n",
    "           if x not in numb]"
   ]
  },
  {
   "cell_type": "code",
   "execution_count": 43,
   "metadata": {},
   "outputs": [
    {
     "name": "stdout",
     "output_type": "stream",
     "text": [
      "Enter the value:1 1 3 3 4 6 0 1 8\n",
      "[2, 5, 7]\n"
     ]
    }
   ],
   "source": [
    "numb = list(map(int, input(\"Enter the value:\").split(' ')))\n",
    "print(find_missing(numb))"
   ]
  },
  {
   "cell_type": "code",
   "execution_count": null,
   "metadata": {},
   "outputs": [],
   "source": []
  },
  {
   "cell_type": "code",
   "execution_count": 45,
   "metadata": {},
   "outputs": [
    {
     "name": "stdout",
     "output_type": "stream",
     "text": [
      "1\n",
      "7\n"
     ]
    }
   ],
   "source": [
    "n = [1, 2, 3, 4, 5, 6]\n",
    "\n",
    "print(n[0])\n",
    "\n",
    "print(n[-1]+1)"
   ]
  },
  {
   "cell_type": "code",
   "execution_count": 51,
   "metadata": {},
   "outputs": [
    {
     "name": "stdout",
     "output_type": "stream",
     "text": [
      "1\n",
      "5\n"
     ]
    }
   ],
   "source": [
    "n = [1, 2, 3, 4, 5, 6]\n",
    "\n",
    "print(n[0])\n",
    "\n",
    "print(n[-1]-1)"
   ]
  },
  {
   "cell_type": "code",
   "execution_count": null,
   "metadata": {},
   "outputs": [],
   "source": []
  },
  {
   "cell_type": "code",
   "execution_count": 52,
   "metadata": {},
   "outputs": [],
   "source": [
    "# Solution: \n",
    "def check_missing(numb):\n",
    "    return [x for x in range(n[0], n[-1]-1)\n",
    "           if x not in n]"
   ]
  },
  {
   "cell_type": "code",
   "execution_count": 53,
   "metadata": {},
   "outputs": [
    {
     "name": "stdout",
     "output_type": "stream",
     "text": [
      "Enter the value:1 2 4 6 3 7 8\n",
      "[5]\n"
     ]
    }
   ],
   "source": [
    "n = list(map(int, input(\"Enter the value:\").split(' ')))\n",
    "print(check_missing(n))"
   ]
  },
  {
   "cell_type": "markdown",
   "metadata": {},
   "source": [
    "#### or"
   ]
  },
  {
   "cell_type": "code",
   "execution_count": 54,
   "metadata": {},
   "outputs": [
    {
     "name": "stdout",
     "output_type": "stream",
     "text": [
      "Entet the list elements:1 2 4 6 3 7 8\n",
      "The missing value :\n",
      "5 "
     ]
    }
   ],
   "source": [
    "m = list(map(int,input('Entet the list elements:').split(' ')))\n",
    "lst = [i for i in range(1,len(m))]\n",
    "missing = []\n",
    "for i in lst:\n",
    "    if i not in m:\n",
    "        missing.append(i)\n",
    "\n",
    "print('The missing value :')\n",
    "for j in missing:\n",
    "    print(j,end = ' ')"
   ]
  },
  {
   "cell_type": "code",
   "execution_count": null,
   "metadata": {},
   "outputs": [],
   "source": []
  },
  {
   "cell_type": "code",
   "execution_count": null,
   "metadata": {},
   "outputs": [],
   "source": []
  },
  {
   "cell_type": "code",
   "execution_count": null,
   "metadata": {},
   "outputs": [],
   "source": [
    "# With a given list L, write a program to print this list L after removing all duplicate values with original order reserved.\n",
    "# Example:\n",
    "# If the input list is\n",
    "# 12 24 35 24 88 120 155 88 120 155\n",
    "# Then the output should be\n",
    "# 12 24 35 88 120 155\n",
    "# Explanation:\n",
    "# Third, seventh and ninth element of the list L has been removed because it was already present.\n",
    "# Input Format:\n",
    "# In one line take the elements of the list L with each element separated by a space.\n",
    "# Output Format:\n",
    "# Print the elements of the modified list in one line with each element separated by a space.\n",
    "# Example:\n",
    "# Input: 12 24 35 24\n",
    "# Output:\n",
    "# 12 24 35"
   ]
  },
  {
   "cell_type": "code",
   "execution_count": 69,
   "metadata": {},
   "outputs": [
    {
     "name": "stdout",
     "output_type": "stream",
     "text": [
      "Enter the values:12 24 35 24 88 120 155 88 120 155\n",
      "[12, 24, 35, 88, 120, 155]\n"
     ]
    }
   ],
   "source": [
    "l = list(map(int,input(\"Enter the values:\").split(' ')))\n",
    "\n",
    "l = list(dict.fromkeys(l))\n",
    "\n",
    "print(l)"
   ]
  },
  {
   "cell_type": "markdown",
   "metadata": {},
   "source": [
    "#### or"
   ]
  },
  {
   "cell_type": "code",
   "execution_count": 72,
   "metadata": {},
   "outputs": [
    {
     "name": "stdout",
     "output_type": "stream",
     "text": [
      "Enter the values:12 24 35 24 88 120 155 88 120 155\n",
      "12 24 35 88 120 155 "
     ]
    }
   ],
   "source": [
    "l = map(int,input(\"Enter the values:\").split(' '))\n",
    "\n",
    "l = (dict.fromkeys(l))\n",
    "\n",
    "for i in l:\n",
    "    print(i, end = ' ')"
   ]
  },
  {
   "cell_type": "code",
   "execution_count": null,
   "metadata": {},
   "outputs": [],
   "source": []
  }
 ],
 "metadata": {
  "kernelspec": {
   "display_name": "Python 3",
   "language": "python",
   "name": "python3"
  },
  "language_info": {
   "codemirror_mode": {
    "name": "ipython",
    "version": 3
   },
   "file_extension": ".py",
   "mimetype": "text/x-python",
   "name": "python",
   "nbconvert_exporter": "python",
   "pygments_lexer": "ipython3",
   "version": "3.7.6"
  }
 },
 "nbformat": 4,
 "nbformat_minor": 4
}
